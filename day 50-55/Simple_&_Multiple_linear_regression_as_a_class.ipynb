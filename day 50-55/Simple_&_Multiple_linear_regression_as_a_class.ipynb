{
  "nbformat": 4,
  "nbformat_minor": 0,
  "metadata": {
    "colab": {
      "provenance": []
    },
    "kernelspec": {
      "name": "python3",
      "display_name": "Python 3"
    },
    "language_info": {
      "name": "python"
    }
  },
  "cells": [
    {
      "cell_type": "markdown",
      "source": [
        "###Day48)\n",
        "\n",
        "#Creating A LinearRegression model without sklearn by using OOPS!"
      ],
      "metadata": {
        "id": "CUTTSpr3E4vN"
      }
    },
    {
      "cell_type": "markdown",
      "source": [
        "##1)Simple Linear Regression"
      ],
      "metadata": {
        "id": "1V71eG2Eaee8"
      }
    },
    {
      "cell_type": "code",
      "source": [
        "class MeraLinearRegression:\n",
        "\n",
        "  def __init__(self):\n",
        "    self.m = None\n",
        "    self.b = None\n",
        "\n",
        "  def fit(self ,x_train, y_train):\n",
        "    print (x_train.shape)\n",
        "    num=0\n",
        "    den=0\n",
        "    for i in range(x_train.shape[0]):\n",
        "      num = num + ( (x_train[i]  - x_train.mean()) * (y_train[i] - y_train.mean()) )\n",
        "      den = den + (x_train[i]  - x_train.mean()) *(x_train[i]  - x_train.mean())\n",
        "    self.m = num/den\n",
        "    self.b = y_train.mean() - (self.m)* x_train.mean()\n",
        "    print(self.m, self.b)\n",
        "\n",
        "  def predict(self, x_test):\n",
        "    print(x_test)\n",
        "    print(\"now\")\n",
        "    return self.m * x_test + self.b\n"
      ],
      "metadata": {
        "id": "ic1hxg1XFVS2"
      },
      "execution_count": null,
      "outputs": []
    },
    {
      "cell_type": "code",
      "source": [
        "import pandas as pd\n",
        "import numpy as np\n",
        "import matplotlib.pyplot as plt"
      ],
      "metadata": {
        "id": "Jbs-GvImrVUj"
      },
      "execution_count": null,
      "outputs": []
    },
    {
      "cell_type": "code",
      "source": [
        "df = pd.read_csv('students_placement.csv' , usecols = ['cgpa','placed'])\n",
        "df.head()"
      ],
      "metadata": {
        "colab": {
          "base_uri": "https://localhost:8080/",
          "height": 206
        },
        "id": "Tk9hBlm7rgub",
        "outputId": "fa17f2db-cb4f-4d1b-cc11-838deda8ef40"
      },
      "execution_count": null,
      "outputs": [
        {
          "output_type": "execute_result",
          "data": {
            "text/plain": [
              "   cgpa  placed\n",
              "0  5.97       0\n",
              "1  6.83       0\n",
              "2  6.60       0\n",
              "3  5.54       0\n",
              "4  6.84       0"
            ],
            "text/html": [
              "\n",
              "  <div id=\"df-96f5708c-f4d8-4922-9a1a-200a6b649798\" class=\"colab-df-container\">\n",
              "    <div>\n",
              "<style scoped>\n",
              "    .dataframe tbody tr th:only-of-type {\n",
              "        vertical-align: middle;\n",
              "    }\n",
              "\n",
              "    .dataframe tbody tr th {\n",
              "        vertical-align: top;\n",
              "    }\n",
              "\n",
              "    .dataframe thead th {\n",
              "        text-align: right;\n",
              "    }\n",
              "</style>\n",
              "<table border=\"1\" class=\"dataframe\">\n",
              "  <thead>\n",
              "    <tr style=\"text-align: right;\">\n",
              "      <th></th>\n",
              "      <th>cgpa</th>\n",
              "      <th>placed</th>\n",
              "    </tr>\n",
              "  </thead>\n",
              "  <tbody>\n",
              "    <tr>\n",
              "      <th>0</th>\n",
              "      <td>5.97</td>\n",
              "      <td>0</td>\n",
              "    </tr>\n",
              "    <tr>\n",
              "      <th>1</th>\n",
              "      <td>6.83</td>\n",
              "      <td>0</td>\n",
              "    </tr>\n",
              "    <tr>\n",
              "      <th>2</th>\n",
              "      <td>6.60</td>\n",
              "      <td>0</td>\n",
              "    </tr>\n",
              "    <tr>\n",
              "      <th>3</th>\n",
              "      <td>5.54</td>\n",
              "      <td>0</td>\n",
              "    </tr>\n",
              "    <tr>\n",
              "      <th>4</th>\n",
              "      <td>6.84</td>\n",
              "      <td>0</td>\n",
              "    </tr>\n",
              "  </tbody>\n",
              "</table>\n",
              "</div>\n",
              "    <div class=\"colab-df-buttons\">\n",
              "\n",
              "  <div class=\"colab-df-container\">\n",
              "    <button class=\"colab-df-convert\" onclick=\"convertToInteractive('df-96f5708c-f4d8-4922-9a1a-200a6b649798')\"\n",
              "            title=\"Convert this dataframe to an interactive table.\"\n",
              "            style=\"display:none;\">\n",
              "\n",
              "  <svg xmlns=\"http://www.w3.org/2000/svg\" height=\"24px\" viewBox=\"0 -960 960 960\">\n",
              "    <path d=\"M120-120v-720h720v720H120Zm60-500h600v-160H180v160Zm220 220h160v-160H400v160Zm0 220h160v-160H400v160ZM180-400h160v-160H180v160Zm440 0h160v-160H620v160ZM180-180h160v-160H180v160Zm440 0h160v-160H620v160Z\"/>\n",
              "  </svg>\n",
              "    </button>\n",
              "\n",
              "  <style>\n",
              "    .colab-df-container {\n",
              "      display:flex;\n",
              "      gap: 12px;\n",
              "    }\n",
              "\n",
              "    .colab-df-convert {\n",
              "      background-color: #E8F0FE;\n",
              "      border: none;\n",
              "      border-radius: 50%;\n",
              "      cursor: pointer;\n",
              "      display: none;\n",
              "      fill: #1967D2;\n",
              "      height: 32px;\n",
              "      padding: 0 0 0 0;\n",
              "      width: 32px;\n",
              "    }\n",
              "\n",
              "    .colab-df-convert:hover {\n",
              "      background-color: #E2EBFA;\n",
              "      box-shadow: 0px 1px 2px rgba(60, 64, 67, 0.3), 0px 1px 3px 1px rgba(60, 64, 67, 0.15);\n",
              "      fill: #174EA6;\n",
              "    }\n",
              "\n",
              "    .colab-df-buttons div {\n",
              "      margin-bottom: 4px;\n",
              "    }\n",
              "\n",
              "    [theme=dark] .colab-df-convert {\n",
              "      background-color: #3B4455;\n",
              "      fill: #D2E3FC;\n",
              "    }\n",
              "\n",
              "    [theme=dark] .colab-df-convert:hover {\n",
              "      background-color: #434B5C;\n",
              "      box-shadow: 0px 1px 3px 1px rgba(0, 0, 0, 0.15);\n",
              "      filter: drop-shadow(0px 1px 2px rgba(0, 0, 0, 0.3));\n",
              "      fill: #FFFFFF;\n",
              "    }\n",
              "  </style>\n",
              "\n",
              "    <script>\n",
              "      const buttonEl =\n",
              "        document.querySelector('#df-96f5708c-f4d8-4922-9a1a-200a6b649798 button.colab-df-convert');\n",
              "      buttonEl.style.display =\n",
              "        google.colab.kernel.accessAllowed ? 'block' : 'none';\n",
              "\n",
              "      async function convertToInteractive(key) {\n",
              "        const element = document.querySelector('#df-96f5708c-f4d8-4922-9a1a-200a6b649798');\n",
              "        const dataTable =\n",
              "          await google.colab.kernel.invokeFunction('convertToInteractive',\n",
              "                                                    [key], {});\n",
              "        if (!dataTable) return;\n",
              "\n",
              "        const docLinkHtml = 'Like what you see? Visit the ' +\n",
              "          '<a target=\"_blank\" href=https://colab.research.google.com/notebooks/data_table.ipynb>data table notebook</a>'\n",
              "          + ' to learn more about interactive tables.';\n",
              "        element.innerHTML = '';\n",
              "        dataTable['output_type'] = 'display_data';\n",
              "        await google.colab.output.renderOutput(dataTable, element);\n",
              "        const docLink = document.createElement('div');\n",
              "        docLink.innerHTML = docLinkHtml;\n",
              "        element.appendChild(docLink);\n",
              "      }\n",
              "    </script>\n",
              "  </div>\n",
              "\n",
              "\n",
              "    <div id=\"df-da5cfe21-a01e-4f75-9001-7f370e574108\">\n",
              "      <button class=\"colab-df-quickchart\" onclick=\"quickchart('df-da5cfe21-a01e-4f75-9001-7f370e574108')\"\n",
              "                title=\"Suggest charts\"\n",
              "                style=\"display:none;\">\n",
              "\n",
              "<svg xmlns=\"http://www.w3.org/2000/svg\" height=\"24px\"viewBox=\"0 0 24 24\"\n",
              "     width=\"24px\">\n",
              "    <g>\n",
              "        <path d=\"M19 3H5c-1.1 0-2 .9-2 2v14c0 1.1.9 2 2 2h14c1.1 0 2-.9 2-2V5c0-1.1-.9-2-2-2zM9 17H7v-7h2v7zm4 0h-2V7h2v10zm4 0h-2v-4h2v4z\"/>\n",
              "    </g>\n",
              "</svg>\n",
              "      </button>\n",
              "\n",
              "<style>\n",
              "  .colab-df-quickchart {\n",
              "      --bg-color: #E8F0FE;\n",
              "      --fill-color: #1967D2;\n",
              "      --hover-bg-color: #E2EBFA;\n",
              "      --hover-fill-color: #174EA6;\n",
              "      --disabled-fill-color: #AAA;\n",
              "      --disabled-bg-color: #DDD;\n",
              "  }\n",
              "\n",
              "  [theme=dark] .colab-df-quickchart {\n",
              "      --bg-color: #3B4455;\n",
              "      --fill-color: #D2E3FC;\n",
              "      --hover-bg-color: #434B5C;\n",
              "      --hover-fill-color: #FFFFFF;\n",
              "      --disabled-bg-color: #3B4455;\n",
              "      --disabled-fill-color: #666;\n",
              "  }\n",
              "\n",
              "  .colab-df-quickchart {\n",
              "    background-color: var(--bg-color);\n",
              "    border: none;\n",
              "    border-radius: 50%;\n",
              "    cursor: pointer;\n",
              "    display: none;\n",
              "    fill: var(--fill-color);\n",
              "    height: 32px;\n",
              "    padding: 0;\n",
              "    width: 32px;\n",
              "  }\n",
              "\n",
              "  .colab-df-quickchart:hover {\n",
              "    background-color: var(--hover-bg-color);\n",
              "    box-shadow: 0 1px 2px rgba(60, 64, 67, 0.3), 0 1px 3px 1px rgba(60, 64, 67, 0.15);\n",
              "    fill: var(--button-hover-fill-color);\n",
              "  }\n",
              "\n",
              "  .colab-df-quickchart-complete:disabled,\n",
              "  .colab-df-quickchart-complete:disabled:hover {\n",
              "    background-color: var(--disabled-bg-color);\n",
              "    fill: var(--disabled-fill-color);\n",
              "    box-shadow: none;\n",
              "  }\n",
              "\n",
              "  .colab-df-spinner {\n",
              "    border: 2px solid var(--fill-color);\n",
              "    border-color: transparent;\n",
              "    border-bottom-color: var(--fill-color);\n",
              "    animation:\n",
              "      spin 1s steps(1) infinite;\n",
              "  }\n",
              "\n",
              "  @keyframes spin {\n",
              "    0% {\n",
              "      border-color: transparent;\n",
              "      border-bottom-color: var(--fill-color);\n",
              "      border-left-color: var(--fill-color);\n",
              "    }\n",
              "    20% {\n",
              "      border-color: transparent;\n",
              "      border-left-color: var(--fill-color);\n",
              "      border-top-color: var(--fill-color);\n",
              "    }\n",
              "    30% {\n",
              "      border-color: transparent;\n",
              "      border-left-color: var(--fill-color);\n",
              "      border-top-color: var(--fill-color);\n",
              "      border-right-color: var(--fill-color);\n",
              "    }\n",
              "    40% {\n",
              "      border-color: transparent;\n",
              "      border-right-color: var(--fill-color);\n",
              "      border-top-color: var(--fill-color);\n",
              "    }\n",
              "    60% {\n",
              "      border-color: transparent;\n",
              "      border-right-color: var(--fill-color);\n",
              "    }\n",
              "    80% {\n",
              "      border-color: transparent;\n",
              "      border-right-color: var(--fill-color);\n",
              "      border-bottom-color: var(--fill-color);\n",
              "    }\n",
              "    90% {\n",
              "      border-color: transparent;\n",
              "      border-bottom-color: var(--fill-color);\n",
              "    }\n",
              "  }\n",
              "</style>\n",
              "\n",
              "      <script>\n",
              "        async function quickchart(key) {\n",
              "          const quickchartButtonEl =\n",
              "            document.querySelector('#' + key + ' button');\n",
              "          quickchartButtonEl.disabled = true;  // To prevent multiple clicks.\n",
              "          quickchartButtonEl.classList.add('colab-df-spinner');\n",
              "          try {\n",
              "            const charts = await google.colab.kernel.invokeFunction(\n",
              "                'suggestCharts', [key], {});\n",
              "          } catch (error) {\n",
              "            console.error('Error during call to suggestCharts:', error);\n",
              "          }\n",
              "          quickchartButtonEl.classList.remove('colab-df-spinner');\n",
              "          quickchartButtonEl.classList.add('colab-df-quickchart-complete');\n",
              "        }\n",
              "        (() => {\n",
              "          let quickchartButtonEl =\n",
              "            document.querySelector('#df-da5cfe21-a01e-4f75-9001-7f370e574108 button');\n",
              "          quickchartButtonEl.style.display =\n",
              "            google.colab.kernel.accessAllowed ? 'block' : 'none';\n",
              "        })();\n",
              "      </script>\n",
              "    </div>\n",
              "\n",
              "    </div>\n",
              "  </div>\n"
            ],
            "application/vnd.google.colaboratory.intrinsic+json": {
              "type": "dataframe",
              "variable_name": "df",
              "summary": "{\n  \"name\": \"df\",\n  \"rows\": 295,\n  \"fields\": [\n    {\n      \"column\": \"cgpa\",\n      \"properties\": {\n        \"dtype\": \"number\",\n        \"std\": 0.972287803073284,\n        \"min\": 4.6,\n        \"max\": 9.3,\n        \"num_unique_values\": 195,\n        \"samples\": [\n          8.49,\n          7.37,\n          7.59\n        ],\n        \"semantic_type\": \"\",\n        \"description\": \"\"\n      }\n    },\n    {\n      \"column\": \"placed\",\n      \"properties\": {\n        \"dtype\": \"number\",\n        \"std\": 0,\n        \"min\": 0,\n        \"max\": 1,\n        \"num_unique_values\": 2,\n        \"samples\": [\n          1,\n          0\n        ],\n        \"semantic_type\": \"\",\n        \"description\": \"\"\n      }\n    }\n  ]\n}"
            }
          },
          "metadata": {},
          "execution_count": 77
        }
      ]
    },
    {
      "cell_type": "code",
      "source": [
        "x= df.iloc[:,0:1].values\n",
        "y= df.iloc[:,-1].values"
      ],
      "metadata": {
        "id": "1aKdzZYEsPr5"
      },
      "execution_count": null,
      "outputs": []
    },
    {
      "cell_type": "code",
      "source": [
        "from sklearn.model_selection import train_test_split\n",
        "x_train,x_test,y_train,y_test = train_test_split(x,y,test_size=0.2, random_state =42)\n",
        "\n",
        "x_train.shape[0]"
      ],
      "metadata": {
        "colab": {
          "base_uri": "https://localhost:8080/"
        },
        "id": "my9uYtLhsjeS",
        "outputId": "be8f63c3-204c-498a-fed7-72a96bdefb3b"
      },
      "execution_count": null,
      "outputs": [
        {
          "output_type": "execute_result",
          "data": {
            "text/plain": [
              "236"
            ]
          },
          "metadata": {},
          "execution_count": 79
        }
      ]
    },
    {
      "cell_type": "code",
      "source": [
        "lR = MeraLinearRegression()\n",
        "lR.fit(x_train,y_train)"
      ],
      "metadata": {
        "colab": {
          "base_uri": "https://localhost:8080/"
        },
        "id": "Qil9HZSOupPr",
        "outputId": "5bdd00b4-5b03-46bb-d139-39e4ecf873c8"
      },
      "execution_count": null,
      "outputs": [
        {
          "output_type": "stream",
          "name": "stdout",
          "text": [
            "(236, 1)\n",
            "[0.33959721] [-1.79877859]\n"
          ]
        }
      ]
    },
    {
      "cell_type": "code",
      "source": [
        "y_pred=lR.predict(x_test)\n",
        "print(y_pred ,x_test )"
      ],
      "metadata": {
        "colab": {
          "base_uri": "https://localhost:8080/"
        },
        "id": "hr5rBME-vlp9",
        "outputId": "99caae56-15d2-40e9-cf22-93b91a68eddd"
      },
      "execution_count": null,
      "outputs": [
        {
          "output_type": "stream",
          "name": "stdout",
          "text": [
            "[[5.91]\n",
            " [5.71]\n",
            " [6.86]\n",
            " [6.11]\n",
            " [7.26]\n",
            " [7.64]\n",
            " [6.34]\n",
            " [8.35]\n",
            " [6.98]\n",
            " [7.06]\n",
            " [5.86]\n",
            " [7.  ]\n",
            " [6.24]\n",
            " [7.38]\n",
            " [6.91]\n",
            " [8.09]\n",
            " [7.32]\n",
            " [7.49]\n",
            " [5.85]\n",
            " [8.21]\n",
            " [7.01]\n",
            " [8.12]\n",
            " [6.27]\n",
            " [7.08]\n",
            " [5.89]\n",
            " [7.15]\n",
            " [7.24]\n",
            " [7.65]\n",
            " [8.71]\n",
            " [8.54]\n",
            " [7.97]\n",
            " [7.55]\n",
            " [6.49]\n",
            " [7.23]\n",
            " [5.67]\n",
            " [7.49]\n",
            " [6.69]\n",
            " [7.93]\n",
            " [5.83]\n",
            " [6.55]\n",
            " [7.65]\n",
            " [8.04]\n",
            " [5.77]\n",
            " [6.75]\n",
            " [6.85]\n",
            " [9.05]\n",
            " [7.73]\n",
            " [6.83]\n",
            " [7.4 ]\n",
            " [4.6 ]\n",
            " [7.52]\n",
            " [5.05]\n",
            " [6.27]\n",
            " [7.76]\n",
            " [5.49]\n",
            " [7.19]\n",
            " [6.46]\n",
            " [6.13]\n",
            " [6.27]]\n",
            "now\n",
            "[[ 0.20824091]\n",
            " [ 0.14032147]\n",
            " [ 0.53085826]\n",
            " [ 0.27616035]\n",
            " [ 0.66669714]\n",
            " [ 0.79574408]\n",
            " [ 0.35426771]\n",
            " [ 1.03685809]\n",
            " [ 0.57160992]\n",
            " [ 0.5987777 ]\n",
            " [ 0.19126105]\n",
            " [ 0.57840186]\n",
            " [ 0.32030799]\n",
            " [ 0.7074488 ]\n",
            " [ 0.54783812]\n",
            " [ 0.94856282]\n",
            " [ 0.68707297]\n",
            " [ 0.7448045 ]\n",
            " [ 0.18786508]\n",
            " [ 0.98931449]\n",
            " [ 0.58179784]\n",
            " [ 0.95875074]\n",
            " [ 0.3304959 ]\n",
            " [ 0.60556964]\n",
            " [ 0.20144896]\n",
            " [ 0.62934145]\n",
            " [ 0.65990519]\n",
            " [ 0.79914005]\n",
            " [ 1.15911309]\n",
            " [ 1.10138156]\n",
            " [ 0.90781116]\n",
            " [ 0.76518033]\n",
            " [ 0.40520729]\n",
            " [ 0.65650922]\n",
            " [ 0.12673758]\n",
            " [ 0.7448045 ]\n",
            " [ 0.47312673]\n",
            " [ 0.89422727]\n",
            " [ 0.18107313]\n",
            " [ 0.42558312]\n",
            " [ 0.79914005]\n",
            " [ 0.93158296]\n",
            " [ 0.1606973 ]\n",
            " [ 0.49350256]\n",
            " [ 0.52746228]\n",
            " [ 1.27457614]\n",
            " [ 0.82630783]\n",
            " [ 0.52067034]\n",
            " [ 0.71424075]\n",
            " [-0.23663143]\n",
            " [ 0.75499241]\n",
            " [-0.08381269]\n",
            " [ 0.3304959 ]\n",
            " [ 0.83649574]\n",
            " [ 0.06561008]\n",
            " [ 0.64292533]\n",
            " [ 0.39501937]\n",
            " [ 0.28295229]\n",
            " [ 0.3304959 ]] [[5.91]\n",
            " [5.71]\n",
            " [6.86]\n",
            " [6.11]\n",
            " [7.26]\n",
            " [7.64]\n",
            " [6.34]\n",
            " [8.35]\n",
            " [6.98]\n",
            " [7.06]\n",
            " [5.86]\n",
            " [7.  ]\n",
            " [6.24]\n",
            " [7.38]\n",
            " [6.91]\n",
            " [8.09]\n",
            " [7.32]\n",
            " [7.49]\n",
            " [5.85]\n",
            " [8.21]\n",
            " [7.01]\n",
            " [8.12]\n",
            " [6.27]\n",
            " [7.08]\n",
            " [5.89]\n",
            " [7.15]\n",
            " [7.24]\n",
            " [7.65]\n",
            " [8.71]\n",
            " [8.54]\n",
            " [7.97]\n",
            " [7.55]\n",
            " [6.49]\n",
            " [7.23]\n",
            " [5.67]\n",
            " [7.49]\n",
            " [6.69]\n",
            " [7.93]\n",
            " [5.83]\n",
            " [6.55]\n",
            " [7.65]\n",
            " [8.04]\n",
            " [5.77]\n",
            " [6.75]\n",
            " [6.85]\n",
            " [9.05]\n",
            " [7.73]\n",
            " [6.83]\n",
            " [7.4 ]\n",
            " [4.6 ]\n",
            " [7.52]\n",
            " [5.05]\n",
            " [6.27]\n",
            " [7.76]\n",
            " [5.49]\n",
            " [7.19]\n",
            " [6.46]\n",
            " [6.13]\n",
            " [6.27]]\n"
          ]
        }
      ]
    },
    {
      "cell_type": "code",
      "source": [
        "plt.scatter(df['cgpa'], df['placed'])\n",
        "plt.plot(x_test, y_pred, color='red')\n",
        "plt.show()"
      ],
      "metadata": {
        "colab": {
          "base_uri": "https://localhost:8080/",
          "height": 430
        },
        "id": "QKRAixbVxFHS",
        "outputId": "1a9e60db-3fa5-415b-82e1-57556f038ac3"
      },
      "execution_count": null,
      "outputs": [
        {
          "output_type": "display_data",
          "data": {
            "text/plain": [
              "<Figure size 640x480 with 1 Axes>"
            ],
            "image/png": "[encoded data removed]"
          },
          "metadata": {}
        }
      ]
    },
    {
      "cell_type": "code",
      "source": [],
      "metadata": {
        "id": "9V0coq7d1uXV"
      },
      "execution_count": null,
      "outputs": []
    },
    {
      "cell_type": "markdown",
      "source": [
        "##2) Multiple Linear Regression"
      ],
      "metadata": {
        "id": "kFkVANUTar5Q"
      }
    },
    {
      "cell_type": "code",
      "source": [
        "from sklearn.datasets import load_diabetes\n",
        "\n",
        "x,y = load_diabetes(return_X_y=True)"
      ],
      "metadata": {
        "id": "q5U8TjytoM_d"
      },
      "execution_count": null,
      "outputs": []
    },
    {
      "cell_type": "code",
      "source": [
        "x"
      ],
      "metadata": {
        "colab": {
          "base_uri": "https://localhost:8080/"
        },
        "id": "nQ-P7cZKocTt",
        "outputId": "cfb3ecea-486f-4f9f-ae21-6a378653cc19"
      },
      "execution_count": null,
      "outputs": [
        {
          "output_type": "execute_result",
          "data": {
            "text/plain": [
              "array([[ 0.03807591,  0.05068012,  0.06169621, ..., -0.00259226,\n",
              "         0.01990749, -0.01764613],\n",
              "       [-0.00188202, -0.04464164, -0.05147406, ..., -0.03949338,\n",
              "        -0.06833155, -0.09220405],\n",
              "       [ 0.08529891,  0.05068012,  0.04445121, ..., -0.00259226,\n",
              "         0.00286131, -0.02593034],\n",
              "       ...,\n",
              "       [ 0.04170844,  0.05068012, -0.01590626, ..., -0.01107952,\n",
              "        -0.04688253,  0.01549073],\n",
              "       [-0.04547248, -0.04464164,  0.03906215, ...,  0.02655962,\n",
              "         0.04452873, -0.02593034],\n",
              "       [-0.04547248, -0.04464164, -0.0730303 , ..., -0.03949338,\n",
              "        -0.00422151,  0.00306441]])"
            ]
          },
          "metadata": {},
          "execution_count": 2
        }
      ]
    },
    {
      "cell_type": "code",
      "source": [
        "from sklearn.model_selection import train_test_split\n",
        "x_train,x_test,y_train,y_test = train_test_split(x,y,test_size=0.2, random_state =2)\n",
        "print(x_train.shape)"
      ],
      "metadata": {
        "colab": {
          "base_uri": "https://localhost:8080/"
        },
        "id": "F4LVMP3GodEa",
        "outputId": "555e5e50-347a-4f11-d6d7-513e36e5031b"
      },
      "execution_count": null,
      "outputs": [
        {
          "output_type": "stream",
          "name": "stdout",
          "text": [
            "(353, 10)\n"
          ]
        }
      ]
    },
    {
      "cell_type": "code",
      "source": [
        "from sklearn.linear_model import LinearRegression\n",
        "lr=LinearRegression()\n",
        "\n",
        "lr.fit(x_train,y_train)\n",
        "y_pred = lr.predict(x_test)"
      ],
      "metadata": {
        "id": "F3euoAzkpSLI"
      },
      "execution_count": null,
      "outputs": []
    },
    {
      "cell_type": "code",
      "source": [
        "from sklearn.metrics import r2_score\n",
        "\n",
        "r2_score(y_test,y_pred)"
      ],
      "metadata": {
        "colab": {
          "base_uri": "https://localhost:8080/"
        },
        "id": "QuAw8g8Jp2ID",
        "outputId": "78440108-024e-499f-ea44-7b73118ae69d"
      },
      "execution_count": null,
      "outputs": [
        {
          "output_type": "execute_result",
          "data": {
            "text/plain": [
              "0.4399338661568968"
            ]
          },
          "metadata": {},
          "execution_count": 13
        }
      ]
    },
    {
      "cell_type": "code",
      "source": [
        "print(lr.coef_)\n",
        "print(lr.intercept_)"
      ],
      "metadata": {
        "colab": {
          "base_uri": "https://localhost:8080/"
        },
        "id": "9I47LzjnqSLf",
        "outputId": "264ae449-90fa-40a9-b810-7d3cdba166ea"
      },
      "execution_count": null,
      "outputs": [
        {
          "output_type": "stream",
          "name": "stdout",
          "text": [
            "[  -9.15865318 -205.45432163  516.69374454  340.61999905 -895.5520019\n",
            "  561.22067904  153.89310954  126.73139688  861.12700152   52.42112238]\n",
            "151.88331005254167\n"
          ]
        }
      ]
    },
    {
      "cell_type": "code",
      "source": [],
      "metadata": {
        "id": "uH1-zjf12e-O"
      },
      "execution_count": null,
      "outputs": []
    },
    {
      "cell_type": "markdown",
      "source": [
        "#**Making a Linear Regression Class!**"
      ],
      "metadata": {
        "id": "wz4vX4Q22tA6"
      }
    },
    {
      "cell_type": "code",
      "source": [
        "class MyLR:\n",
        "  def __init__(self):\n",
        "    self.coef_ = None\n",
        "    self.intercept_ = None\n",
        "\n",
        "  def fit(self,x_train,y_train):\n",
        "    x_train= np.insert(x_train,0,1,axis=1)\n",
        "\n",
        "    #calculating coeffs\n",
        "    betas= np.linalg.inv( np.dot(x_train.T , x_train)).dot(x_train.T).dot(y_train)\n",
        "    self.intercept_ = betas[0]\n",
        "    self.coef_ = betas[1:]\n",
        "    print(betas)\n",
        "\n",
        "\n",
        "  def predict(self,x_test):\n",
        "    y_pred = np.dot(x_train  ,self.coef) + self.intercept_\n",
        "\n"
      ],
      "metadata": {
        "id": "Hp7_NSIO28DQ"
      },
      "execution_count": null,
      "outputs": []
    },
    {
      "cell_type": "code",
      "source": [
        "newlr= MyLR()\n",
        "newlr.fit(x_train,y_train)"
      ],
      "metadata": {
        "colab": {
          "base_uri": "https://localhost:8080/"
        },
        "id": "tPl9EEig3CAO",
        "outputId": "638eac7a-0aa2-4b6a-8886-a514107a0d54"
      },
      "execution_count": null,
      "outputs": [
        {
          "output_type": "stream",
          "name": "stdout",
          "text": [
            "[ 151.88331005   -9.15865318 -205.45432163  516.69374454  340.61999905\n",
            " -895.5520019   561.22067904  153.89310954  126.73139688  861.12700152\n",
            "   52.42112238]\n"
          ]
        }
      ]
    },
    {
      "cell_type": "code",
      "source": [
        "newlr.predict(x_test)\n",
        "y_pred"
      ],
      "metadata": {
        "colab": {
          "base_uri": "https://localhost:8080/"
        },
        "id": "jABFtAd1__1w",
        "outputId": "f4c28b60-5ee1-46f5-b2a2-3238a23eb96e"
      },
      "execution_count": null,
      "outputs": [
        {
          "output_type": "execute_result",
          "data": {
            "text/plain": [
              "array([154.1213881 , 204.81835118, 124.93755353, 106.08950893,\n",
              "       258.5348576 , 256.3310074 , 118.75087616, 119.52440696,\n",
              "       101.50816735, 190.54048661, 141.70656811, 172.51883961,\n",
              "       174.33861649, 134.80942706, 294.13994537,  94.11798038,\n",
              "       211.97059795, 156.49579378, 134.21000428, 119.62664644,\n",
              "       148.87842251, 165.00873409, 151.10021038, 176.04063756,\n",
              "       133.27769647, 221.29555392, 197.17324941,  96.1577688 ,\n",
              "        50.26012711, 230.48580317, 242.06073866, 114.11129218,\n",
              "        67.07532417,  94.52943825, 201.21415375, 167.05136201,\n",
              "       159.881268  , 192.78746659, 114.49551325, 233.48234551,\n",
              "       140.82563045, 121.0680409 , 192.27480772, 191.12738845,\n",
              "       179.16865788, 148.34935601, 163.47414622, 276.81647884,\n",
              "       100.17926432, 164.10555298, 255.80762189, 136.9466204 ,\n",
              "       152.37503699, 107.92237882, 194.21924678,  77.34670792,\n",
              "       118.50482479,  68.38335763, 154.29258529, 162.48840259,\n",
              "       168.36788326, 156.87790322,  97.14191797, 238.1671215 ,\n",
              "       145.46179904, 117.65702433, 168.88784311, 198.38683887,\n",
              "       118.24053714, 124.64552812, 223.17700368, 200.63012386,\n",
              "       129.54414666, 158.1584765 , 154.332565  , 114.47070769,\n",
              "        70.44906407,  76.3973879 , 172.41584591,  80.56270077,\n",
              "        80.2722834 ,  89.46150248, 186.21572052, 275.46275403,\n",
              "       208.26784222, 143.79451509, 291.28766846, 206.32474844,\n",
              "        94.22935404])"
            ]
          },
          "metadata": {},
          "execution_count": 30
        }
      ]
    },
    {
      "cell_type": "code",
      "source": [
        " r2_score(y_test,y_pred)"
      ],
      "metadata": {
        "colab": {
          "base_uri": "https://localhost:8080/"
        },
        "id": "wABfyoXWBuO8",
        "outputId": "3365d076-08ba-4fde-f1c0-319a205b7fdd"
      },
      "execution_count": null,
      "outputs": [
        {
          "output_type": "execute_result",
          "data": {
            "text/plain": [
              "0.4399338661568968"
            ]
          },
          "metadata": {},
          "execution_count": 31
        }
      ]
    },
    {
      "cell_type": "code",
      "source": [],
      "metadata": {
        "id": "3dxfTBBJB_44"
      },
      "execution_count": null,
      "outputs": []
    }
  ]
}